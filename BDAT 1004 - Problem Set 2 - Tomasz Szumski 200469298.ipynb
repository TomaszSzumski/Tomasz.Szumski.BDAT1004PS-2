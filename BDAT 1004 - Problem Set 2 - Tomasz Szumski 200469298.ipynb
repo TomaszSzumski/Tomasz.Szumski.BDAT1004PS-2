{
 "cells": [
  {
   "cell_type": "markdown",
   "metadata": {},
   "source": [
    "# Question 1"
   ]
  },
  {
   "cell_type": "markdown",
   "metadata": {},
   "source": [
    "What value is displayed? "
   ]
  },
  {
   "cell_type": "markdown",
   "metadata": {},
   "source": [
    "After last expression is evaluated a = 6 \n",
    "a is a global variable\n",
    "b() >> a = 2\n",
    "b() >> a = 4\n",
    "B() >> a = 6\n",
    "a =6"
   ]
  },
  {
   "cell_type": "markdown",
   "metadata": {},
   "source": [
    "# Question 2"
   ]
  },
  {
   "cell_type": "code",
   "execution_count": 4,
   "metadata": {},
   "outputs": [
    {
     "name": "stdout",
     "output_type": "stream",
     "text": [
      "File g:/test.txt has not been found.\n"
     ]
    }
   ],
   "source": [
    "def fileLenght(FilePath):\n",
    "    try:\n",
    "        sFile= open(Filepath,r)\n",
    "        #read file to a string\n",
    "        FileStr=sFile.readline()\n",
    "        sFile.close()\n",
    "        FileLenght = len(Filestr)\n",
    "        return FileLenght \n",
    "    except:\n",
    "        print ( \"File \"+ FilePath + \" has not been found.\")\n",
    "    \n",
    "fileLenght(\"g:/test.txt\")"
   ]
  },
  {
   "cell_type": "markdown",
   "metadata": {},
   "source": [
    "# Question 3"
   ]
  },
  {
   "cell_type": "code",
   "execution_count": 22,
   "metadata": {},
   "outputs": [
    {
     "name": "stdout",
     "output_type": "stream",
     "text": [
      "['doll', 'firetruck', 'Kitten']\n"
     ]
    }
   ],
   "source": [
    "\n",
    "class Marsupial:\n",
    "    def __init__ (self) :\n",
    "        'instantiates an empty list'\n",
    "        self.toylist = []\n",
    "       \n",
    " \n",
    "    def put_in_pouch(self, toy):\n",
    "        #puts toy into the list\n",
    "        self.toylist.append(toy)\n",
    "    \n",
    "    def pouch_contents(self):\n",
    "        print(self.toylist)\n",
    "\n",
    "\n",
    "m = Marsupial()\n",
    "m.put_in_pouch('doll')\n",
    "m.put_in_pouch('firetruck')\n",
    "m.put_in_pouch('Kitten')\n",
    "m.pouch_contents()\n"
   ]
  },
  {
   "cell_type": "markdown",
   "metadata": {},
   "source": [
    "Second part of the Question 3"
   ]
  },
  {
   "cell_type": "code",
   "execution_count": 19,
   "metadata": {},
   "outputs": [
    {
     "name": "stdout",
     "output_type": "stream",
     "text": [
      "(I am a Kangaroo located at coordinates 0,0)\n",
      "['doll', 'firetruck', 'kitten']\n",
      "(I am a Kangaroo located at coordinates 3,0)\n"
     ]
    }
   ],
   "source": [
    "    class Marsupial:\n",
    "        def __init__ (self):\n",
    "            'instantiates an empty list'\n",
    "            self.toylist = []\n",
    "\n",
    "        def put_in_pouch(self, toy):\n",
    "            #puts toy into the list\n",
    "            self.toylist.append(toy)\n",
    "\n",
    "        #print content of the pouch\n",
    "        def pouch_contents(self):\n",
    "            print(self.toylist)\n",
    "\n",
    "    # subclass of Mursupial        \n",
    "    class Kangaroo(Marsupial):\n",
    "        def __init__(self, x = 0, y = 0):\n",
    "            Marsupial.__init__(self)\n",
    "            self.x = x\n",
    "            self.y = y\n",
    "        # Move the location of the kangaroo\n",
    "        def jump(self, dx, dy):\n",
    "            self.x += dx\n",
    "            self.y += dy \n",
    "\n",
    "        def __str__(self):\n",
    "            return \"(I am a Kangaroo located at coordinates {0},{1})\".format(self.x,self.y)\n",
    "\n",
    "  \n",
    "\n",
    "    k = Kangaroo (0,0)\n",
    "    print(k)\n",
    "    k.put_in_pouch('doll')\n",
    "    k.put_in_pouch('firetruck')\n",
    "    k.put_in_pouch('kitten')\n",
    "    k.pouch_contents()\n",
    "    k.jump(1,0)\n",
    "    k.jump(1,0)\n",
    "    k.jump(1,0)\n",
    "    print(k)\n"
   ]
  },
  {
   "cell_type": "markdown",
   "metadata": {},
   "source": [
    "# Question 4"
   ]
  },
  {
   "cell_type": "code",
   "execution_count": 115,
   "metadata": {},
   "outputs": [],
   "source": [
    "from tkinter import *\n",
    "root = Tk()\n",
    "LoanAmountLabel = Label(root, text= \"Loan Amount: \",)\n",
    "LoanAmountLabel.grid(row=0,column=0)\n",
    "LoanAmountEntry =Entry(root)\n",
    "InterestRateLabel = Label(root, text= \"Interest Rate: \",)\n",
    "InterestRateLabel.grid(row=1,column=0)\n",
    "InterestRateLabel =Entry(root)\n",
    "LoanTermsLabel = Label(root, text= \"Loan Terms: \",)\n",
    "LoanTermsLabel.grid(row=2,column=0)\n",
    "LoanTermsLabel =Entry(root)\n",
    "\n",
    "root.mainloop()"
   ]
  },
  {
   "cell_type": "markdown",
   "metadata": {},
   "source": [
    "# Question 5"
   ]
  },
  {
   "cell_type": "code",
   "execution_count": 74,
   "metadata": {},
   "outputs": [
    {
     "name": "stdout",
     "output_type": "stream",
     "text": [
      "1\n",
      "This is the second loop\n",
      "10\n",
      "5.0\n",
      "16.0\n",
      "8.0\n",
      "4.0\n",
      "2.0\n"
     ]
    }
   ],
   "source": [
    "def collatz(x):\n",
    "    # print number for each iteraction\n",
    "    print (str(x))\n",
    "    if x>1:\n",
    "        # number is even\n",
    "        if x % 2 == 0:\n",
    "            x = x/2\n",
    "            \n",
    "        else: \n",
    "            x = 3*x+1\n",
    "            \n",
    "\n",
    "        if x>1:\n",
    "            collatz(x)\n",
    "\n",
    "collatz(1)\n",
    "print(\"This is the second loop\")\n",
    "\n",
    "collatz(10)"
   ]
  },
  {
   "cell_type": "markdown",
   "metadata": {},
   "source": [
    "# Question 6"
   ]
  },
  {
   "cell_type": "code",
   "execution_count": 181,
   "metadata": {},
   "outputs": [
    {
     "name": "stdout",
     "output_type": "stream",
     "text": [
      "Integer : 0 Binary ['0'] \n",
      "Integer : 1 Binary ['1'] \n",
      "Integer : 3 Binary ['1', '1'] \n",
      "Integer : 9 Binary ['1', '0', '0', '1'] \n"
     ]
    }
   ],
   "source": [
    "   \n",
    "        mystr = []\n",
    "       \n",
    "        def binary(n):\n",
    "            # if it is 0 or even\n",
    "            if not n%2:\n",
    "                mystr.append(\"0\") \n",
    "                 \n",
    "                if n > 0:\n",
    "                    binary(n/2)\n",
    "            else:\n",
    "                mystr.append(\"1\") \n",
    "                \n",
    "                if n > 1:\n",
    "                    binary((n-n%2)/2)\n",
    "\n",
    "                  \n",
    "              \n",
    "                   \n",
    "binary(0)\n",
    "print(\"Integer : 0 Binary {} \".format(mystr))\n",
    "mystr.clear()                     \n",
    "binary(1)\n",
    "print(\"Integer : 1 Binary {} \".format(mystr))\n",
    "mystr.clear()        \n",
    "binary(3)\n",
    "print(\"Integer : 3 Binary {} \".format(mystr))\n",
    "mystr.clear()\n",
    "binary(9)\n",
    "print(\"Integer : 9 Binary {} \".format(mystr))\n",
    "mystr.clear()\n",
    "   \n"
   ]
  },
  {
   "cell_type": "markdown",
   "metadata": {},
   "source": [
    "# Question 7"
   ]
  },
  {
   "cell_type": "code",
   "execution_count": 160,
   "metadata": {},
   "outputs": [
    {
     "name": "stdout",
     "output_type": "stream",
     "text": [
      " W3C Mission \n",
      "  Principles \n"
     ]
    }
   ],
   "source": [
    "from html.parser import HTMLParser\n",
    "class HeadingParser(HTMLParser):\n",
    " #parse an HTML  document and retrive and print all headings\n",
    "    def __init__(self):\n",
    "        'initializes the parser and the initial indentation'\n",
    "        HTMLParser.__init__(self)\n",
    "        \n",
    "        self.indent = 0 \n",
    "        #keeps track if line to be printed\n",
    "        self.line = 0\n",
    "   \n",
    "    \n",
    "    def handle_starttag(self,tag,arg,data=\"\"):\n",
    "        '''checks for the tag and calculates indent \n",
    "            for h1 space, h2 two spaces etc'''\n",
    "      \n",
    "        if tag  in {'h1','h2','h3','h4'}:\n",
    "            self.line = 1\n",
    "            self.indent = int(tag[1:2])\n",
    "\n",
    "    def handle_data (self,data):\n",
    "        if self.line == 1 :\n",
    "            print('{}{} '.format(self.indent*' ',data))\n",
    "            self.line=0\n",
    "      \n",
    "\n",
    "infile = open(\"w3c.html\") \n",
    "content = infile.read() \n",
    "infile.close() \n",
    "\n",
    "hp= HeadingParser()\n",
    "hp.feed(content)\n",
    "\n",
    "\n",
    "    "
   ]
  },
  {
   "cell_type": "markdown",
   "metadata": {},
   "source": [
    "# Question 8"
   ]
  },
  {
   "cell_type": "code",
   "execution_count": 2,
   "metadata": {},
   "outputs": [
    {
     "data": {
      "text/plain": [
       "['https://fpl.cs.depaul.edu/jriely',\n",
       " 'https://www.youtube.com/playlist?list=PL75YXG7TYNRIWhS2l6LQHRdlTfqtg6h4e',\n",
       " 'https://d2l.depaul.edu/',\n",
       " 'https://discord.gg/NnCKUUT',\n",
       " 'http://www.google.com/search?q=depaul CDM Online Learning',\n",
       " 'http://www.google.com/search?q=DePaul CDM Tutoring',\n",
       " 'http://www.google.com/search?q=depaul student support services',\n",
       " 'https://algs4.cs.princeton.edu/home/',\n",
       " 'https://go.oreilly.com/depaul/library/view/algorithms-fourth-edition/9780132762564/',\n",
       " 'https://go.oreilly.com/depaul/videos/algorithms-24-part-lecture/9780134384528',\n",
       " 'https://www.coursera.org/course/algs4partI',\n",
       " 'https://www.princeton.edu/~cos226',\n",
       " 'https://www.informit.com/store/core-java-se-9-for-the-impatient-9780134694801',\n",
       " 'https://go.oreilly.com/depaul/library/view/core-java-se/9780134694849/',\n",
       " 'https://ptgmedia.pearsoncmg.com/images/9780134694726/samplepages/9780134694726_sample.pdf',\n",
       " 'https://docs.oracle.com/en/java/javase/11/docs/api/java.base/index.html',\n",
       " 'https://docs.oracle.com/javase/tutorial/java/',\n",
       " 'https://docs.oracle.com/javase/tutorial/essential/exceptions/definition.html',\n",
       " 'https://docs.oracle.com/javase/tutorial/essential/io/formatting.html',\n",
       " 'https://docs.oracle.com/javase/tutorial/java/data/numberformat.html',\n",
       " 'https://docs.oracle.com/javase/tutorial/collections/',\n",
       " 'https://www.ibm.com/developerworks/opensource/library/os-eclipse-platform/?S_TACT=105AGX59',\n",
       " 'https://www.vogella.com/articles/Eclipse/article.html',\n",
       " 'https://www.vogella.com/articles/EclipseDebugging/article.html',\n",
       " 'https://www.eclipse.org/resources/?category=Getting%20Started',\n",
       " 'https://wsrv.is.depaul.edu/StarfishSSO/CASAuth.aspx']"
      ]
     },
     "execution_count": 2,
     "metadata": {},
     "output_type": "execute_result"
    }
   ],
   "source": [
    "\n",
    "# I got stuck with this programm. I am not sure it that is a good start.\n",
    "# I have URLs parsed and now I should move down with url links etc...\n",
    "\n",
    "urlstr =\"http://reed.cs.depaul.edu/jriely/ds1/index.html\"\n",
    "\n",
    "\n",
    "# recursive function that takes a URL and non negative ineger depth and indent\n",
    "\n",
    "from urllib.request import urlopen\n",
    "from urllib.parse import urljoin\n",
    "from html.parser import HTMLParser\n",
    "\n",
    "class Collector(HTMLParser):\n",
    "    'collects hyperlink URLs into a list'\n",
    "\n",
    "    def __init__(self, url,depth,indent):\n",
    "        'initializes parser, the url, and a list'\n",
    "        HTMLParser.__init__(self)\n",
    "        self.url = url\n",
    "        self.links = []\n",
    "        self.deph = depth\n",
    "        self.indent = indent\n",
    "        \n",
    "\n",
    "    def handle_starttag(self, tag, attrs):\n",
    "        'collects hyperlink URLs in their absolute format'\n",
    "       \n",
    "        if tag == 'a':\n",
    "            for attr in attrs:\n",
    "                if attr[0] == 'href':\n",
    "                    # construct absolute URL\n",
    "                    absolute = urljoin(self.url, attr[1])\n",
    "                    if absolute[:4] == 'http': # collect HTTP URLs\n",
    "                        self.links.append(absolute)\n",
    "                    \n",
    "                        \n",
    "    def getLinks(self):\n",
    "        'returns hyperlinks URLs in their absolute format parser'\n",
    "        return self.links\n",
    "\n",
    "\n",
    "resource = urlopen(urlstr)\n",
    "content = resource.read().decode()\n",
    "\n",
    "\n",
    "urlparse = Collector(content,2,0)\n",
    "\n",
    "\n",
    "urlparse.feed(content)\n",
    "urlparse.getLinks()\n",
    "\n",
    "\n"
   ]
  },
  {
   "cell_type": "markdown",
   "metadata": {},
   "source": [
    "# Question 9"
   ]
  },
  {
   "cell_type": "markdown",
   "metadata": {},
   "source": [
    "a) Select temp FROM City_Table"
   ]
  },
  {
   "cell_type": "markdown",
   "metadata": {},
   "source": [
    "b) Select DISTINCT city FROM City_Table "
   ]
  },
  {
   "cell_type": "markdown",
   "metadata": {},
   "source": [
    "c) Select * FROM City_table\n",
    "    WHERE country = \"India\""
   ]
  },
  {
   "cell_type": "markdown",
   "metadata": {},
   "source": [
    "d) Select * FROM City_Table\n",
    "    WHERE season = \"Fall\""
   ]
  },
  {
   "cell_type": "markdown",
   "metadata": {},
   "source": [
    "e) Select city , country, season FROM City_Table\n",
    "    WHERE rainfall BETWEEN 200 AND 400"
   ]
  },
  {
   "cell_type": "markdown",
   "metadata": {},
   "source": [
    "f) Select city , country FROM City_Table\n",
    "    WHERE season = \"Fall' AND AVG(temp) > 20\n",
    "    ORDER BY temp ASC"
   ]
  },
  {
   "cell_type": "markdown",
   "metadata": {},
   "source": [
    "g) Select SUM(rainfall) FROM City_Table\n",
    "    WHERE city =\"Cairo\""
   ]
  },
  {
   "cell_type": "markdown",
   "metadata": {},
   "source": [
    "h) Select season, SUM(raifall) FROM City_Table\n",
    "   GROUP BY season"
   ]
  },
  {
   "cell_type": "markdown",
   "metadata": {},
   "source": [
    "# Question 10"
   ]
  },
  {
   "cell_type": "code",
   "execution_count": 96,
   "metadata": {},
   "outputs": [
    {
     "data": {
      "text/plain": [
       "['THE', 'QUICK', 'BROWN', 'FOX', 'JUMPS', 'OVER', 'THE', 'LAZY', 'DOG']"
      ]
     },
     "execution_count": 96,
     "metadata": {},
     "output_type": "execute_result"
    }
   ],
   "source": [
    "#a)\n",
    "words = ['The','quick','brown','fox','jumps','over','the','lazy','dog']\n",
    "\n",
    "[a.upper() for a in words]\n"
   ]
  },
  {
   "cell_type": "code",
   "execution_count": 94,
   "metadata": {},
   "outputs": [
    {
     "data": {
      "text/plain": [
       "['the', 'quick', 'brown', 'fox', 'jumps', 'over', 'the', 'lazy', 'dog']"
      ]
     },
     "execution_count": 94,
     "metadata": {},
     "output_type": "execute_result"
    }
   ],
   "source": [
    "#b)\n",
    "[b.lower() for b in words]"
   ]
  },
  {
   "cell_type": "code",
   "execution_count": 97,
   "metadata": {},
   "outputs": [
    {
     "data": {
      "text/plain": [
       "[3, 5, 5, 3, 5, 4, 3, 4, 3]"
      ]
     },
     "execution_count": 97,
     "metadata": {},
     "output_type": "execute_result"
    }
   ],
   "source": [
    "#c)\n",
    "[len(c) for c in words]"
   ]
  },
  {
   "cell_type": "code",
   "execution_count": 100,
   "metadata": {},
   "outputs": [
    {
     "data": {
      "text/plain": [
       "[['THE', 'the', 3],\n",
       " ['QUICK', 'quick', 5],\n",
       " ['BROWN', 'brown', 5],\n",
       " ['FOX', 'fox', 3],\n",
       " ['JUMPS', 'jumps', 5],\n",
       " ['OVER', 'over', 4],\n",
       " ['THE', 'the', 3],\n",
       " ['LAZY', 'lazy', 4],\n",
       " ['DOG', 'dog', 3]]"
      ]
     },
     "execution_count": 100,
     "metadata": {},
     "output_type": "execute_result"
    }
   ],
   "source": [
    "#d)\n",
    "[[d.upper(), d.lower(), len(d)] for d in words]"
   ]
  },
  {
   "cell_type": "code",
   "execution_count": 104,
   "metadata": {},
   "outputs": [
    {
     "data": {
      "text/plain": [
       "['quick', 'brown', 'jumps']"
      ]
     },
     "execution_count": 104,
     "metadata": {},
     "output_type": "execute_result"
    }
   ],
   "source": [
    "#e) 4 or more characters\n",
    "[c for c in words if len(c)>4]"
   ]
  },
  {
   "cell_type": "code",
   "execution_count": null,
   "metadata": {},
   "outputs": [],
   "source": []
  }
 ],
 "metadata": {
  "kernelspec": {
   "display_name": "Python 3",
   "language": "python",
   "name": "python3"
  },
  "language_info": {
   "codemirror_mode": {
    "name": "ipython",
    "version": 3
   },
   "file_extension": ".py",
   "mimetype": "text/x-python",
   "name": "python",
   "nbconvert_exporter": "python",
   "pygments_lexer": "ipython3",
   "version": "3.8.3"
  }
 },
 "nbformat": 4,
 "nbformat_minor": 4
}
